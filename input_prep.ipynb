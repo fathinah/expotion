{
 "cells": [
  {
   "cell_type": "code",
   "execution_count": 17,
   "metadata": {},
   "outputs": [],
   "source": [
    "import os\n",
    "\n",
    "path = '/l/users/fathinah.izzati/Synchformer/vis'\n",
    "filenames = [path+'/'+i for i in os.listdir(path) if i.endswith('.wav') ]"
   ]
  },
  {
   "cell_type": "code",
   "execution_count": 21,
   "metadata": {},
   "outputs": [],
   "source": [
    "from coco_mulla.utilities.encodec_utils import extract_rvq\n",
    "import librosa\n",
    "import torch\n",
    "import numpy as np\n",
    "device='cuda'\n",
    "\n",
    "mix_output_path = 'demo/input/tnj'\n",
    "sr =16_000\n",
    "for audio_path in filenames:\n",
    "    name = audio_path.split('/')[-1].split('.')[0]\n",
    "    wav, _ = librosa.load(audio_path, sr=sr, mono=True)\n",
    "    wav = torch.from_numpy(wav).to(device)[None, None, ...]\n",
    "    mix_rvq = extract_rvq(wav, sr=sr)\n",
    "    np.save(mix_output_path+f'/{name}.npy', mix_rvq.cpu().numpy())"
   ]
  },
  {
   "cell_type": "markdown",
   "metadata": {},
   "source": [
    "## Original"
   ]
  },
  {
   "cell_type": "code",
   "execution_count": 16,
   "metadata": {},
   "outputs": [],
   "source": [
    "import numpy as np\n",
    "\n",
    "from coco_mulla.utilities.symbolic_utils import reduce_piano, process_chord, process_midi\n",
    "from coco_mulla.utilities.sep_utils import separate\n",
    "from coco_mulla.utilities.encodec_utils import extract_rvq, extract_musicgen_emb\n",
    "from coco_mulla.utilities import *\n",
    "import librosa\n",
    "from config import *\n",
    "\n",
    "device = get_device()\n",
    "\n",
    "def process_single(output_folder, path_dict, fname):\n",
    "    output_folder = os.path.join(output_folder, fname)\n",
    "    print(\"begin\", output_folder)\n",
    "    mkdir(output_folder)\n",
    "    audio_path = path_dict[\"audio\"]\n",
    "    chord_path = path_dict[\"chord\"]\n",
    "    midi_path = path_dict[\"midi\"]\n",
    "    sr = 48000\n",
    "\n",
    "    drums_output_path = os.path.join(output_folder, \"drums_rvq.npy\")\n",
    "    mix_output_path = os.path.join(output_folder, \"mix_rvq.npy\")\n",
    "    chord_output_path = os.path.join(output_folder, \"chord.npy\")\n",
    "    midi_output_path = os.path.join(output_folder, \"midi.npy\")\n",
    "    print(mix_output_path)\n",
    "    if os.path.exists(mix_output_path):\n",
    "        print(mix_output_path, \"skip\")\n",
    "        return\n",
    "\n",
    "    flatten_midi_path = midi_path+\".piano.mid\"\n",
    "    if not os.path.exists(flatten_midi_path):\n",
    "        reduce_piano(midi_path, reduced_path=flatten_midi_path)\n",
    "\n",
    "    wav, _ = librosa.load(audio_path, sr=sr, mono=True)\n",
    "\n",
    "    wav = np2torch(wav).to(device)[None, None, ...]\n",
    "    wavs = separate(wav, sr)\n",
    "    print(\"separate\", output_folder)\n",
    "\n",
    "    drums_rvq = extract_rvq(wavs[\"drums\"], sr=sr)\n",
    "    mix_rvq = extract_rvq(wav, sr=sr)\n",
    "\n",
    "    chord, _ = process_chord(chord_path)\n",
    "    piano_roll, _ = process_midi(flatten_midi_path)\n",
    "    max_len = len(drums_rvq[0])\n",
    "\n",
    "    if len(chord) < max_len:\n",
    "        t_len = len(chord)\n",
    "        chord = np.pad(chord, ((0, max_len - len(chord)), (0, 0)), \"constant\", constant_values=(0, 0))\n",
    "        chord[t_len:, -1] = 1\n",
    "    else:\n",
    "        chord = chord[:max_len]\n",
    "    piano_roll = np.pad(piano_roll, ((0, max_len - len(piano_roll)), (0, 0)), \"constant\", constant_values=(0, 0))\n",
    "\n",
    "    np.save(chord_output_path, chord)\n",
    "    np.save(midi_output_path, piano_roll)\n",
    "\n",
    "\n",
    "\n",
    "\n",
    "    np.save(drums_output_path, drums_rvq.cpu().numpy())\n",
    "    np.save(mix_output_path, mix_rvq.cpu().numpy())\n",
    "\n",
    "\n",
    "def scan_audio(audio_folder, low, up):\n",
    "    res = {}\n",
    "    for song in os.listdir(audio_folder):\n",
    "        fname = song\n",
    "        print(fname)\n",
    "        audio_path = os.path.join(audio_folder, song, song+\".flac\")\n",
    "        print(audio_path)\n",
    "        midi_path = os.path.join(audio_folder, song, song+\".mid\")\n",
    "\n",
    "        # if int(fname) < low or int(fname) >= up:\n",
    "        #     continue\n",
    "        res[fname] = {\n",
    "            \"audio\": audio_path,\n",
    "            \"midi\": midi_path,\n",
    "            \"chord\": audio_path + \".chord.lab\",\n",
    "        }\n",
    "    return res\n",
    "\n",
    "def process_all(audio_folder, output_folder, low, up):\n",
    "    data = scan_audio(audio_folder, low, up)\n",
    "    for song_name in data:\n",
    "        process_single(output_folder, data[song_name], song_name)\n"
   ]
  },
  {
   "cell_type": "code",
   "execution_count": 17,
   "metadata": {},
   "outputs": [
    {
     "name": "stdout",
     "output_type": "stream",
     "text": [
      "let_it_be\n",
      "/l/users/fathinah.izzati/coco-mulla-repo/demo/input/let_it_be/let_it_be.flac\n",
      "begin /l/users/fathinah.izzati/coco-mulla-repo/demo/output/let_it_be\n",
      "/l/users/fathinah.izzati/coco-mulla-repo/demo/output/let_it_be/mix_rvq.npy\n",
      "separate /l/users/fathinah.izzati/coco-mulla-repo/demo/output/let_it_be\n"
     ]
    }
   ],
   "source": [
    "audio_folder = '/l/users/fathinah.izzati/coco-mulla-repo/demo/input'\n",
    "output_folder = '/l/users/fathinah.izzati/coco-mulla-repo/demo/output'\n",
    "process_all(audio_folder, output_folder, 0, 1000)"
   ]
  },
  {
   "cell_type": "code",
   "execution_count": null,
   "metadata": {},
   "outputs": [],
   "source": []
  }
 ],
 "metadata": {
  "kernelspec": {
   "display_name": "cocomulla",
   "language": "python",
   "name": "python3"
  },
  "language_info": {
   "codemirror_mode": {
    "name": "ipython",
    "version": 3
   },
   "file_extension": ".py",
   "mimetype": "text/x-python",
   "name": "python",
   "nbconvert_exporter": "python",
   "pygments_lexer": "ipython3",
   "version": "3.11.10"
  }
 },
 "nbformat": 4,
 "nbformat_minor": 2
}
